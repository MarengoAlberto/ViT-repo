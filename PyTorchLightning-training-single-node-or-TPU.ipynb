{
 "cells": [
  {
   "cell_type": "markdown",
   "source": [
    "## (Optional) TPU configuration\n",
    "\n",
    "To use [Cloud TPUs](https://cloud.google.com/tpu), first create a [TPU node](https://cloud.google.com/tpu/docs/creating-deleting-tpus#setup_TPU_only). Set the **TPU software version** to a matching PyTorch version (e.g. `pytorch-1.7`) and the **Network** to the same network used for your notebook instance (e.g. `datalab-network`).\n",
    "\n",
    "Uncomment this section only if you are using TPUs. Note that you must be running this notebook on an [XLA](https://github.com/pytorch/xla) image such as [pytorch-xla.1-7](gcr.io/deeplearning-platform-release/pytorch-xla.1-7) for PyTorch to connect to Cloud TPUs. To use an XLA image, you can create a new notebook instance with the **Environment** set to `Custom container` and the **Docker container image** set to the XLA image location.\n",
    "\n",
    "If you need a quota increase for Cloud TPUs, please review the [Cloud TPU Quota Policy](https://cloud.google.com/tpu/docs/quota) for more details."
   ],
   "metadata": {
    "collapsed": false
   }
  },
  {
   "cell_type": "markdown",
   "source": [
    "### Review TPU configuration\n",
    "\n",
    "Run the gcloud command to review the available TPUs for the one you wish to use.\n",
    "Make note of the IP address (from NETWORK_ENDPOINT, without the port), and the # of TPU cores (derived from ACCELERATOR_TYPE). An ACCELERATOR_TYPE of v3-8 will indicate 8 TPU cores, for example."
   ],
   "metadata": {
    "collapsed": false
   }
  },
  {
   "cell_type": "code",
   "execution_count": 1,
   "outputs": [],
   "source": [
    "# !gcloud compute tpus list --zone=YOUR_ZONE_HERE_SUCH_AS_us-central1-b"
   ],
   "metadata": {
    "collapsed": false,
    "ExecuteTime": {
     "end_time": "2023-07-16T23:09:04.263448Z",
     "start_time": "2023-07-16T23:09:04.261936Z"
    }
   }
  },
  {
   "cell_type": "markdown",
   "source": [
    "### Update TPU configuration\n",
    "\n",
    "Update the IP address and cores variables here"
   ],
   "metadata": {
    "collapsed": false
   }
  },
  {
   "cell_type": "code",
   "execution_count": 2,
   "outputs": [],
   "source": [
    "# tpu_ip_address='10.1.2.3'\n",
    "# tpu_cores=8"
   ],
   "metadata": {
    "collapsed": false,
    "ExecuteTime": {
     "end_time": "2023-07-16T23:09:04.265772Z",
     "start_time": "2023-07-16T23:09:04.263657Z"
    }
   }
  },
  {
   "cell_type": "markdown",
   "source": [
    "### Set TPU environment variables"
   ],
   "metadata": {
    "collapsed": false
   }
  },
  {
   "cell_type": "code",
   "execution_count": 3,
   "outputs": [],
   "source": [
    "# # TPU configuration\n",
    "# %env XRT_TPU_CONFIG=tpu_worker;0;$tpu_ip_address:8470\n",
    "\n",
    "# # Use bfloat16\n",
    "# %env XLA_USE_BF16=1"
   ],
   "metadata": {
    "collapsed": false,
    "ExecuteTime": {
     "end_time": "2023-07-16T23:09:04.268356Z",
     "start_time": "2023-07-16T23:09:04.266945Z"
    }
   }
  },
  {
   "cell_type": "code",
   "execution_count": 4,
   "metadata": {
    "collapsed": true,
    "ExecuteTime": {
     "end_time": "2023-07-16T23:09:05.323079Z",
     "start_time": "2023-07-16T23:09:04.270659Z"
    }
   },
   "outputs": [
    {
     "name": "stderr",
     "output_type": "stream",
     "text": [
      "/Users/albertomarengo/Bitstrapped-Project/PyTorch-Lightning/pytorch-venv/lib/python3.10/site-packages/pytorch_lightning/utilities/xla_device.py:60: LightningDeprecationWarning: `pytorch_lightning.utilities.xla_device.XLADeviceUtils.tpu_device_exists` has been deprecated in v1.8.0 and will be removed in v2.0.0. Please use `pytorch_lightning.accelerators.TPUAccelerator.is_available()` instead.\n",
      "  rank_zero_deprecation(\n",
      "Global seed set to 42\n"
     ]
    },
    {
     "data": {
      "text/plain": "<Figure size 640x480 with 0 Axes>"
     },
     "metadata": {},
     "output_type": "display_data"
    }
   ],
   "source": [
    "import os\n",
    "from multiprocessing import cpu_count\n",
    "\n",
    "import lightning as L\n",
    "import matplotlib\n",
    "import matplotlib.pyplot as plt\n",
    "import matplotlib_inline.backend_inline\n",
    "import seaborn as sns\n",
    "import torch\n",
    "import torchvision\n",
    "from lightning.pytorch.callbacks import LearningRateMonitor, ModelCheckpoint\n",
    "from pytorch_lightning.utilities.xla_device import XLADeviceUtils\n",
    "if XLADeviceUtils.tpu_device_exists():\n",
    "    import torch_xla\n",
    "\n",
    "from task import train_model\n",
    "from src.utils import get_datasets\n",
    "\n",
    "plt.set_cmap(\"cividis\")\n",
    "%matplotlib inline\n",
    "matplotlib_inline.backend_inline.set_matplotlib_formats(\"svg\", \"pdf\")  # For export\n",
    "matplotlib.rcParams[\"lines.linewidth\"] = 2.0\n",
    "sns.reset_orig()\n",
    "\n",
    "\n",
    "# Path to the folder where the datasets are/should be downloaded (e.g. CIFAR10)\n",
    "DATASET_PATH = os.environ.get(\"PATH_DATASETS\", \"data/\")\n",
    "# Path to the folder where the pretrained models are saved\n",
    "CHECKPOINT_PATH = os.environ.get(\"PATH_CHECKPOINT\", \"saved_models/VisionTransformers/\")\n",
    "\n",
    "# Setting the seed\n",
    "L.seed_everything(42)\n",
    "\n",
    "# Ensure that all operations are deterministic on GPU (if used) for reproducibility\n",
    "torch.backends.cudnn.deterministic = True\n",
    "torch.backends.cudnn.benchmark = False"
   ]
  },
  {
   "cell_type": "code",
   "execution_count": 5,
   "outputs": [],
   "source": [
    "world_size = int(os.environ[\"WORLD_SIZE\"]) if \"WORLD_SIZE\" in os.environ else 1"
   ],
   "metadata": {
    "collapsed": false,
    "ExecuteTime": {
     "end_time": "2023-07-16T23:09:05.325105Z",
     "start_time": "2023-07-16T23:09:05.323688Z"
    }
   }
  },
  {
   "cell_type": "code",
   "execution_count": 6,
   "outputs": [
    {
     "data": {
      "text/plain": "1"
     },
     "execution_count": 6,
     "metadata": {},
     "output_type": "execute_result"
    }
   ],
   "source": [
    "world_size"
   ],
   "metadata": {
    "collapsed": false,
    "ExecuteTime": {
     "end_time": "2023-07-16T23:09:05.327828Z",
     "start_time": "2023-07-16T23:09:05.325791Z"
    }
   }
  },
  {
   "cell_type": "code",
   "execution_count": 7,
   "outputs": [
    {
     "name": "stdout",
     "output_type": "stream",
     "text": [
      "Device: cpu\n",
      "CPUs: 8\n",
      "GPUs: 0\n"
     ]
    }
   ],
   "source": [
    "# _ = !nproc\n",
    "# tpu_cores = tpu_cores if 'tpu_cores' in vars() else 0\n",
    "num_cpus = cpu_count()\n",
    "num_gpus = torch.cuda.device_count()\n",
    "device = torch.device('cuda') if num_gpus else 'cpu'\n",
    "\n",
    "print(f'Device: {device}')\n",
    "print(f'CPUs: {num_cpus}')\n",
    "print(f'GPUs: {num_gpus}')\n",
    "# print(f'TPUs: {tpu_cores}')"
   ],
   "metadata": {
    "collapsed": false,
    "ExecuteTime": {
     "end_time": "2023-07-16T23:09:05.330431Z",
     "start_time": "2023-07-16T23:09:05.328450Z"
    }
   }
  },
  {
   "cell_type": "code",
   "execution_count": 8,
   "outputs": [],
   "source": [
    "if torch.cuda.is_available():\n",
    "    trainer_num_workers = num_gpus\n",
    "    dataloader_num_workers = num_gpus\n",
    "else:\n",
    "    trainer_num_workers = \"auto\"\n",
    "    dataloader_num_workers = num_cpus"
   ],
   "metadata": {
    "collapsed": false,
    "ExecuteTime": {
     "end_time": "2023-07-16T23:09:05.332637Z",
     "start_time": "2023-07-16T23:09:05.331160Z"
    }
   }
  },
  {
   "cell_type": "code",
   "execution_count": 9,
   "outputs": [],
   "source": [
    "# num_workers = tpu_cores if 'tpu_cores' in vars() else num_workers"
   ],
   "metadata": {
    "collapsed": false,
    "ExecuteTime": {
     "end_time": "2023-07-16T23:09:05.334577Z",
     "start_time": "2023-07-16T23:09:05.332885Z"
    }
   }
  },
  {
   "cell_type": "code",
   "execution_count": 10,
   "outputs": [],
   "source": [
    "accelerator = 'auto'"
   ],
   "metadata": {
    "collapsed": false,
    "ExecuteTime": {
     "end_time": "2023-07-16T23:09:05.336931Z",
     "start_time": "2023-07-16T23:09:05.335050Z"
    }
   }
  },
  {
   "cell_type": "code",
   "execution_count": 11,
   "outputs": [],
   "source": [
    "# accelerator = 'tpu' if 'tpu_cores' in vars() else accelerator"
   ],
   "metadata": {
    "collapsed": false,
    "ExecuteTime": {
     "end_time": "2023-07-16T23:09:05.338733Z",
     "start_time": "2023-07-16T23:09:05.337312Z"
    }
   }
  },
  {
   "cell_type": "code",
   "execution_count": 12,
   "outputs": [
    {
     "data": {
      "text/plain": "'auto'"
     },
     "execution_count": 12,
     "metadata": {},
     "output_type": "execute_result"
    }
   ],
   "source": [
    "accelerator"
   ],
   "metadata": {
    "collapsed": false,
    "ExecuteTime": {
     "end_time": "2023-07-16T23:09:05.372523Z",
     "start_time": "2023-07-16T23:09:05.341354Z"
    }
   }
  },
  {
   "cell_type": "code",
   "execution_count": 13,
   "outputs": [],
   "source": [
    "args = {'model_kwargs': {\n",
    "    \"embed_dim\": 256,\n",
    "    \"hidden_dim\": 512,\n",
    "    \"num_heads\": 8,\n",
    "    \"num_layers\": 6,\n",
    "    \"patch_size\": 4,\n",
    "    \"num_channels\": 3,\n",
    "    \"num_patches\": 64,\n",
    "    \"num_classes\": 10,\n",
    "    \"dropout\": 0.2,\n",
    "},\n",
    "'trainer_kwargs':{\n",
    "    \"default_root_dir\": os.path.join(CHECKPOINT_PATH, \"ViT\"),\n",
    "    \"accelerator\": accelerator,\n",
    "    \"strategy\": \"auto\",\n",
    "    \"devices\": trainer_num_workers,\n",
    "    \"max_epochs\": 25,\n",
    "    \"callbacks\": [\n",
    "        ModelCheckpoint(save_weights_only=True, mode=\"max\", monitor=\"val_acc\"),\n",
    "        LearningRateMonitor(\"epoch\"),\n",
    "    ],\n",
    "},\n",
    "'loader_kwargs':{\n",
    "    \"dataset_path\": DATASET_PATH,\n",
    "    \"batch_size\": 128,\n",
    "    \"num_workers\": dataloader_num_workers\n",
    "}}\n",
    "\n",
    "lr=3e-4"
   ],
   "metadata": {
    "collapsed": false,
    "ExecuteTime": {
     "end_time": "2023-07-16T23:09:05.372850Z",
     "start_time": "2023-07-16T23:09:05.345025Z"
    }
   }
  },
  {
   "cell_type": "code",
   "execution_count": 14,
   "outputs": [
    {
     "name": "stdout",
     "output_type": "stream",
     "text": [
      "Files already downloaded and verified\n",
      "Files already downloaded and verified\n"
     ]
    },
    {
     "name": "stderr",
     "output_type": "stream",
     "text": [
      "Global seed set to 42\n",
      "Global seed set to 42\n"
     ]
    },
    {
     "name": "stdout",
     "output_type": "stream",
     "text": [
      "Files already downloaded and verified\n"
     ]
    }
   ],
   "source": [
    "_, val_set, _ = get_datasets(DATASET_PATH)"
   ],
   "metadata": {
    "collapsed": false,
    "ExecuteTime": {
     "end_time": "2023-07-16T23:09:07.493145Z",
     "start_time": "2023-07-16T23:09:05.347688Z"
    }
   }
  },
  {
   "cell_type": "code",
   "execution_count": 15,
   "outputs": [
    {
     "data": {
      "text/plain": "<Figure size 800x800 with 1 Axes>",
      "image/svg+xml": "<?xml version=\"1.0\" encoding=\"utf-8\" standalone=\"no\"?>\n<!DOCTYPE svg PUBLIC \"-//W3C//DTD SVG 1.1//EN\"\n  \"http://www.w3.org/Graphics/SVG/1.1/DTD/svg11.dtd\">\n<svg xmlns:xlink=\"http://www.w3.org/1999/xlink\" width=\"460.8pt\" height=\"145.970299pt\" viewBox=\"0 0 460.8 145.970299\" xmlns=\"http://www.w3.org/2000/svg\" version=\"1.1\">\n <metadata>\n  <rdf:RDF xmlns:dc=\"http://purl.org/dc/elements/1.1/\" xmlns:cc=\"http://creativecommons.org/ns#\" xmlns:rdf=\"http://www.w3.org/1999/02/22-rdf-syntax-ns#\">\n   <cc:Work>\n    <dc:type rdf:resource=\"http://purl.org/dc/dcmitype/StillImage\"/>\n    <dc:date>2023-07-16T16:09:07.522146</dc:date>\n    <dc:format>image/svg+xml</dc:format>\n    <dc:creator>\n     <cc:Agent>\n      <dc:title>Matplotlib v3.7.2, https://matplotlib.org/</dc:title>\n     </cc:Agent>\n    </dc:creator>\n   </cc:Work>\n  </rdf:RDF>\n </metadata>\n <defs>\n  <style type=\"text/css\">*{stroke-linejoin: round; stroke-linecap: butt}</style>\n </defs>\n <g id=\"figure_1\">\n  <g id=\"patch_1\">\n   <path d=\"M 0 145.970299 \nL 460.8 145.970299 \nL 460.8 0 \nL 0 0 \nz\n\" style=\"fill: #ffffff\"/>\n  </g>\n  <g id=\"axes_1\">\n   <g clip-path=\"url(#p11036efe86)\">\n    <image xlink:href=\"data:image/png;base64,\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\" id=\"image577f114f6a\" transform=\"scale(1 -1) translate(0 -116.64)\" x=\"7.2\" y=\"-22.130299\" width=\"446.4\" height=\"116.64\"/>\n   </g>\n   <g id=\"text_1\">\n    <!-- Image examples of the CIFAR10 dataset -->\n    <g transform=\"translate(110.034375 16.318125) scale(0.12 -0.12)\">\n     <defs>\n      <path id=\"DejaVuSans-49\" d=\"M 628 4666 \nL 1259 4666 \nL 1259 0 \nL 628 0 \nL 628 4666 \nz\n\" transform=\"scale(0.015625)\"/>\n      <path id=\"DejaVuSans-6d\" d=\"M 3328 2828 \nQ 3544 3216 3844 3400 \nQ 4144 3584 4550 3584 \nQ 5097 3584 5394 3201 \nQ 5691 2819 5691 2113 \nL 5691 0 \nL 5113 0 \nL 5113 2094 \nQ 5113 2597 4934 2840 \nQ 4756 3084 4391 3084 \nQ 3944 3084 3684 2787 \nQ 3425 2491 3425 1978 \nL 3425 0 \nL 2847 0 \nL 2847 2094 \nQ 2847 2600 2669 2842 \nQ 2491 3084 2119 3084 \nQ 1678 3084 1418 2786 \nQ 1159 2488 1159 1978 \nL 1159 0 \nL 581 0 \nL 581 3500 \nL 1159 3500 \nL 1159 2956 \nQ 1356 3278 1631 3431 \nQ 1906 3584 2284 3584 \nQ 2666 3584 2933 3390 \nQ 3200 3197 3328 2828 \nz\n\" transform=\"scale(0.015625)\"/>\n      <path id=\"DejaVuSans-61\" d=\"M 2194 1759 \nQ 1497 1759 1228 1600 \nQ 959 1441 959 1056 \nQ 959 750 1161 570 \nQ 1363 391 1709 391 \nQ 2188 391 2477 730 \nQ 2766 1069 2766 1631 \nL 2766 1759 \nL 2194 1759 \nz\nM 3341 1997 \nL 3341 0 \nL 2766 0 \nL 2766 531 \nQ 2569 213 2275 61 \nQ 1981 -91 1556 -91 \nQ 1019 -91 701 211 \nQ 384 513 384 1019 \nQ 384 1609 779 1909 \nQ 1175 2209 1959 2209 \nL 2766 2209 \nL 2766 2266 \nQ 2766 2663 2505 2880 \nQ 2244 3097 1772 3097 \nQ 1472 3097 1187 3025 \nQ 903 2953 641 2809 \nL 641 3341 \nQ 956 3463 1253 3523 \nQ 1550 3584 1831 3584 \nQ 2591 3584 2966 3190 \nQ 3341 2797 3341 1997 \nz\n\" transform=\"scale(0.015625)\"/>\n      <path id=\"DejaVuSans-67\" d=\"M 2906 1791 \nQ 2906 2416 2648 2759 \nQ 2391 3103 1925 3103 \nQ 1463 3103 1205 2759 \nQ 947 2416 947 1791 \nQ 947 1169 1205 825 \nQ 1463 481 1925 481 \nQ 2391 481 2648 825 \nQ 2906 1169 2906 1791 \nz\nM 3481 434 \nQ 3481 -459 3084 -895 \nQ 2688 -1331 1869 -1331 \nQ 1566 -1331 1297 -1286 \nQ 1028 -1241 775 -1147 \nL 775 -588 \nQ 1028 -725 1275 -790 \nQ 1522 -856 1778 -856 \nQ 2344 -856 2625 -561 \nQ 2906 -266 2906 331 \nL 2906 616 \nQ 2728 306 2450 153 \nQ 2172 0 1784 0 \nQ 1141 0 747 490 \nQ 353 981 353 1791 \nQ 353 2603 747 3093 \nQ 1141 3584 1784 3584 \nQ 2172 3584 2450 3431 \nQ 2728 3278 2906 2969 \nL 2906 3500 \nL 3481 3500 \nL 3481 434 \nz\n\" transform=\"scale(0.015625)\"/>\n      <path id=\"DejaVuSans-65\" d=\"M 3597 1894 \nL 3597 1613 \nL 953 1613 \nQ 991 1019 1311 708 \nQ 1631 397 2203 397 \nQ 2534 397 2845 478 \nQ 3156 559 3463 722 \nL 3463 178 \nQ 3153 47 2828 -22 \nQ 2503 -91 2169 -91 \nQ 1331 -91 842 396 \nQ 353 884 353 1716 \nQ 353 2575 817 3079 \nQ 1281 3584 2069 3584 \nQ 2775 3584 3186 3129 \nQ 3597 2675 3597 1894 \nz\nM 3022 2063 \nQ 3016 2534 2758 2815 \nQ 2500 3097 2075 3097 \nQ 1594 3097 1305 2825 \nQ 1016 2553 972 2059 \nL 3022 2063 \nz\n\" transform=\"scale(0.015625)\"/>\n      <path id=\"DejaVuSans-20\" transform=\"scale(0.015625)\"/>\n      <path id=\"DejaVuSans-78\" d=\"M 3513 3500 \nL 2247 1797 \nL 3578 0 \nL 2900 0 \nL 1881 1375 \nL 863 0 \nL 184 0 \nL 1544 1831 \nL 300 3500 \nL 978 3500 \nL 1906 2253 \nL 2834 3500 \nL 3513 3500 \nz\n\" transform=\"scale(0.015625)\"/>\n      <path id=\"DejaVuSans-70\" d=\"M 1159 525 \nL 1159 -1331 \nL 581 -1331 \nL 581 3500 \nL 1159 3500 \nL 1159 2969 \nQ 1341 3281 1617 3432 \nQ 1894 3584 2278 3584 \nQ 2916 3584 3314 3078 \nQ 3713 2572 3713 1747 \nQ 3713 922 3314 415 \nQ 2916 -91 2278 -91 \nQ 1894 -91 1617 61 \nQ 1341 213 1159 525 \nz\nM 3116 1747 \nQ 3116 2381 2855 2742 \nQ 2594 3103 2138 3103 \nQ 1681 3103 1420 2742 \nQ 1159 2381 1159 1747 \nQ 1159 1113 1420 752 \nQ 1681 391 2138 391 \nQ 2594 391 2855 752 \nQ 3116 1113 3116 1747 \nz\n\" transform=\"scale(0.015625)\"/>\n      <path id=\"DejaVuSans-6c\" d=\"M 603 4863 \nL 1178 4863 \nL 1178 0 \nL 603 0 \nL 603 4863 \nz\n\" transform=\"scale(0.015625)\"/>\n      <path id=\"DejaVuSans-73\" d=\"M 2834 3397 \nL 2834 2853 \nQ 2591 2978 2328 3040 \nQ 2066 3103 1784 3103 \nQ 1356 3103 1142 2972 \nQ 928 2841 928 2578 \nQ 928 2378 1081 2264 \nQ 1234 2150 1697 2047 \nL 1894 2003 \nQ 2506 1872 2764 1633 \nQ 3022 1394 3022 966 \nQ 3022 478 2636 193 \nQ 2250 -91 1575 -91 \nQ 1294 -91 989 -36 \nQ 684 19 347 128 \nL 347 722 \nQ 666 556 975 473 \nQ 1284 391 1588 391 \nQ 1994 391 2212 530 \nQ 2431 669 2431 922 \nQ 2431 1156 2273 1281 \nQ 2116 1406 1581 1522 \nL 1381 1569 \nQ 847 1681 609 1914 \nQ 372 2147 372 2553 \nQ 372 3047 722 3315 \nQ 1072 3584 1716 3584 \nQ 2034 3584 2315 3537 \nQ 2597 3491 2834 3397 \nz\n\" transform=\"scale(0.015625)\"/>\n      <path id=\"DejaVuSans-6f\" d=\"M 1959 3097 \nQ 1497 3097 1228 2736 \nQ 959 2375 959 1747 \nQ 959 1119 1226 758 \nQ 1494 397 1959 397 \nQ 2419 397 2687 759 \nQ 2956 1122 2956 1747 \nQ 2956 2369 2687 2733 \nQ 2419 3097 1959 3097 \nz\nM 1959 3584 \nQ 2709 3584 3137 3096 \nQ 3566 2609 3566 1747 \nQ 3566 888 3137 398 \nQ 2709 -91 1959 -91 \nQ 1206 -91 779 398 \nQ 353 888 353 1747 \nQ 353 2609 779 3096 \nQ 1206 3584 1959 3584 \nz\n\" transform=\"scale(0.015625)\"/>\n      <path id=\"DejaVuSans-66\" d=\"M 2375 4863 \nL 2375 4384 \nL 1825 4384 \nQ 1516 4384 1395 4259 \nQ 1275 4134 1275 3809 \nL 1275 3500 \nL 2222 3500 \nL 2222 3053 \nL 1275 3053 \nL 1275 0 \nL 697 0 \nL 697 3053 \nL 147 3053 \nL 147 3500 \nL 697 3500 \nL 697 3744 \nQ 697 4328 969 4595 \nQ 1241 4863 1831 4863 \nL 2375 4863 \nz\n\" transform=\"scale(0.015625)\"/>\n      <path id=\"DejaVuSans-74\" d=\"M 1172 4494 \nL 1172 3500 \nL 2356 3500 \nL 2356 3053 \nL 1172 3053 \nL 1172 1153 \nQ 1172 725 1289 603 \nQ 1406 481 1766 481 \nL 2356 481 \nL 2356 0 \nL 1766 0 \nQ 1100 0 847 248 \nQ 594 497 594 1153 \nL 594 3053 \nL 172 3053 \nL 172 3500 \nL 594 3500 \nL 594 4494 \nL 1172 4494 \nz\n\" transform=\"scale(0.015625)\"/>\n      <path id=\"DejaVuSans-68\" d=\"M 3513 2113 \nL 3513 0 \nL 2938 0 \nL 2938 2094 \nQ 2938 2591 2744 2837 \nQ 2550 3084 2163 3084 \nQ 1697 3084 1428 2787 \nQ 1159 2491 1159 1978 \nL 1159 0 \nL 581 0 \nL 581 4863 \nL 1159 4863 \nL 1159 2956 \nQ 1366 3272 1645 3428 \nQ 1925 3584 2291 3584 \nQ 2894 3584 3203 3211 \nQ 3513 2838 3513 2113 \nz\n\" transform=\"scale(0.015625)\"/>\n      <path id=\"DejaVuSans-43\" d=\"M 4122 4306 \nL 4122 3641 \nQ 3803 3938 3442 4084 \nQ 3081 4231 2675 4231 \nQ 1875 4231 1450 3742 \nQ 1025 3253 1025 2328 \nQ 1025 1406 1450 917 \nQ 1875 428 2675 428 \nQ 3081 428 3442 575 \nQ 3803 722 4122 1019 \nL 4122 359 \nQ 3791 134 3420 21 \nQ 3050 -91 2638 -91 \nQ 1578 -91 968 557 \nQ 359 1206 359 2328 \nQ 359 3453 968 4101 \nQ 1578 4750 2638 4750 \nQ 3056 4750 3426 4639 \nQ 3797 4528 4122 4306 \nz\n\" transform=\"scale(0.015625)\"/>\n      <path id=\"DejaVuSans-46\" d=\"M 628 4666 \nL 3309 4666 \nL 3309 4134 \nL 1259 4134 \nL 1259 2759 \nL 3109 2759 \nL 3109 2228 \nL 1259 2228 \nL 1259 0 \nL 628 0 \nL 628 4666 \nz\n\" transform=\"scale(0.015625)\"/>\n      <path id=\"DejaVuSans-41\" d=\"M 2188 4044 \nL 1331 1722 \nL 3047 1722 \nL 2188 4044 \nz\nM 1831 4666 \nL 2547 4666 \nL 4325 0 \nL 3669 0 \nL 3244 1197 \nL 1141 1197 \nL 716 0 \nL 50 0 \nL 1831 4666 \nz\n\" transform=\"scale(0.015625)\"/>\n      <path id=\"DejaVuSans-52\" d=\"M 2841 2188 \nQ 3044 2119 3236 1894 \nQ 3428 1669 3622 1275 \nL 4263 0 \nL 3584 0 \nL 2988 1197 \nQ 2756 1666 2539 1819 \nQ 2322 1972 1947 1972 \nL 1259 1972 \nL 1259 0 \nL 628 0 \nL 628 4666 \nL 2053 4666 \nQ 2853 4666 3247 4331 \nQ 3641 3997 3641 3322 \nQ 3641 2881 3436 2590 \nQ 3231 2300 2841 2188 \nz\nM 1259 4147 \nL 1259 2491 \nL 2053 2491 \nQ 2509 2491 2742 2702 \nQ 2975 2913 2975 3322 \nQ 2975 3731 2742 3939 \nQ 2509 4147 2053 4147 \nL 1259 4147 \nz\n\" transform=\"scale(0.015625)\"/>\n      <path id=\"DejaVuSans-31\" d=\"M 794 531 \nL 1825 531 \nL 1825 4091 \nL 703 3866 \nL 703 4441 \nL 1819 4666 \nL 2450 4666 \nL 2450 531 \nL 3481 531 \nL 3481 0 \nL 794 0 \nL 794 531 \nz\n\" transform=\"scale(0.015625)\"/>\n      <path id=\"DejaVuSans-30\" d=\"M 2034 4250 \nQ 1547 4250 1301 3770 \nQ 1056 3291 1056 2328 \nQ 1056 1369 1301 889 \nQ 1547 409 2034 409 \nQ 2525 409 2770 889 \nQ 3016 1369 3016 2328 \nQ 3016 3291 2770 3770 \nQ 2525 4250 2034 4250 \nz\nM 2034 4750 \nQ 2819 4750 3233 4129 \nQ 3647 3509 3647 2328 \nQ 3647 1150 3233 529 \nQ 2819 -91 2034 -91 \nQ 1250 -91 836 529 \nQ 422 1150 422 2328 \nQ 422 3509 836 4129 \nQ 1250 4750 2034 4750 \nz\n\" transform=\"scale(0.015625)\"/>\n      <path id=\"DejaVuSans-64\" d=\"M 2906 2969 \nL 2906 4863 \nL 3481 4863 \nL 3481 0 \nL 2906 0 \nL 2906 525 \nQ 2725 213 2448 61 \nQ 2172 -91 1784 -91 \nQ 1150 -91 751 415 \nQ 353 922 353 1747 \nQ 353 2572 751 3078 \nQ 1150 3584 1784 3584 \nQ 2172 3584 2448 3432 \nQ 2725 3281 2906 2969 \nz\nM 947 1747 \nQ 947 1113 1208 752 \nQ 1469 391 1925 391 \nQ 2381 391 2643 752 \nQ 2906 1113 2906 1747 \nQ 2906 2381 2643 2742 \nQ 2381 3103 1925 3103 \nQ 1469 3103 1208 2742 \nQ 947 2381 947 1747 \nz\n\" transform=\"scale(0.015625)\"/>\n     </defs>\n     <use xlink:href=\"#DejaVuSans-49\"/>\n     <use xlink:href=\"#DejaVuSans-6d\" x=\"29.492188\"/>\n     <use xlink:href=\"#DejaVuSans-61\" x=\"126.904297\"/>\n     <use xlink:href=\"#DejaVuSans-67\" x=\"188.183594\"/>\n     <use xlink:href=\"#DejaVuSans-65\" x=\"251.660156\"/>\n     <use xlink:href=\"#DejaVuSans-20\" x=\"313.183594\"/>\n     <use xlink:href=\"#DejaVuSans-65\" x=\"344.970703\"/>\n     <use xlink:href=\"#DejaVuSans-78\" x=\"404.744141\"/>\n     <use xlink:href=\"#DejaVuSans-61\" x=\"463.923828\"/>\n     <use xlink:href=\"#DejaVuSans-6d\" x=\"525.203125\"/>\n     <use xlink:href=\"#DejaVuSans-70\" x=\"622.615234\"/>\n     <use xlink:href=\"#DejaVuSans-6c\" x=\"686.091797\"/>\n     <use xlink:href=\"#DejaVuSans-65\" x=\"713.875\"/>\n     <use xlink:href=\"#DejaVuSans-73\" x=\"775.398438\"/>\n     <use xlink:href=\"#DejaVuSans-20\" x=\"827.498047\"/>\n     <use xlink:href=\"#DejaVuSans-6f\" x=\"859.285156\"/>\n     <use xlink:href=\"#DejaVuSans-66\" x=\"920.466797\"/>\n     <use xlink:href=\"#DejaVuSans-20\" x=\"955.671875\"/>\n     <use xlink:href=\"#DejaVuSans-74\" x=\"987.458984\"/>\n     <use xlink:href=\"#DejaVuSans-68\" x=\"1026.667969\"/>\n     <use xlink:href=\"#DejaVuSans-65\" x=\"1090.046875\"/>\n     <use xlink:href=\"#DejaVuSans-20\" x=\"1151.570312\"/>\n     <use xlink:href=\"#DejaVuSans-43\" x=\"1183.357422\"/>\n     <use xlink:href=\"#DejaVuSans-49\" x=\"1253.181641\"/>\n     <use xlink:href=\"#DejaVuSans-46\" x=\"1282.673828\"/>\n     <use xlink:href=\"#DejaVuSans-41\" x=\"1331.068359\"/>\n     <use xlink:href=\"#DejaVuSans-52\" x=\"1399.476562\"/>\n     <use xlink:href=\"#DejaVuSans-31\" x=\"1468.958984\"/>\n     <use xlink:href=\"#DejaVuSans-30\" x=\"1532.582031\"/>\n     <use xlink:href=\"#DejaVuSans-20\" x=\"1596.205078\"/>\n     <use xlink:href=\"#DejaVuSans-64\" x=\"1627.992188\"/>\n     <use xlink:href=\"#DejaVuSans-61\" x=\"1691.46875\"/>\n     <use xlink:href=\"#DejaVuSans-74\" x=\"1752.748047\"/>\n     <use xlink:href=\"#DejaVuSans-61\" x=\"1791.957031\"/>\n     <use xlink:href=\"#DejaVuSans-73\" x=\"1853.236328\"/>\n     <use xlink:href=\"#DejaVuSans-65\" x=\"1905.335938\"/>\n     <use xlink:href=\"#DejaVuSans-74\" x=\"1966.859375\"/>\n    </g>\n   </g>\n  </g>\n </g>\n <defs>\n  <clipPath id=\"p11036efe86\">\n   <rect x=\"7.2\" y=\"22.318125\" width=\"446.4\" height=\"116.452174\"/>\n  </clipPath>\n </defs>\n</svg>\n",
      "application/pdf": "[encoded data removed]"
     },
     "metadata": {},
     "output_type": "display_data"
    }
   ],
   "source": [
    "# Visualize some examples\n",
    "NUM_IMAGES = 4\n",
    "CIFAR_images = torch.stack([val_set[idx][0] for idx in range(NUM_IMAGES)], dim=0)\n",
    "img_grid = torchvision.utils.make_grid(CIFAR_images, nrow=4, normalize=True, pad_value=0.9)\n",
    "img_grid = img_grid.permute(1, 2, 0)\n",
    "\n",
    "plt.figure(figsize=(8, 8))\n",
    "plt.title(\"Image examples of the CIFAR10 dataset\")\n",
    "plt.imshow(img_grid)\n",
    "plt.axis(\"off\")\n",
    "plt.show()\n",
    "plt.close()"
   ],
   "metadata": {
    "collapsed": false,
    "ExecuteTime": {
     "end_time": "2023-07-16T23:09:07.623455Z",
     "start_time": "2023-07-16T23:09:07.494511Z"
    }
   }
  },
  {
   "cell_type": "code",
   "execution_count": null,
   "outputs": [
    {
     "name": "stdout",
     "output_type": "stream",
     "text": [
      "Files already downloaded and verified\n",
      "Files already downloaded and verified\n"
     ]
    },
    {
     "name": "stderr",
     "output_type": "stream",
     "text": [
      "Global seed set to 42\n",
      "Global seed set to 42\n"
     ]
    },
    {
     "name": "stdout",
     "output_type": "stream",
     "text": [
      "Files already downloaded and verified\n"
     ]
    },
    {
     "name": "stderr",
     "output_type": "stream",
     "text": [
      "GPU available: True (mps), used: True\n",
      "TPU available: False, using: 0 TPU cores\n",
      "IPU available: False, using: 0 IPUs\n",
      "HPU available: False, using: 0 HPUs\n",
      "Global seed set to 42\n",
      "\n",
      "  | Name  | Type              | Params\n",
      "--------------------------------------------\n",
      "0 | model | VisionTransformer | 3.2 M \n",
      "--------------------------------------------\n",
      "3.2 M     Trainable params\n",
      "0         Non-trainable params\n",
      "3.2 M     Total params\n",
      "12.781    Total estimated model params size (MB)\n",
      "/Users/albertomarengo/Bitstrapped-Project/PyTorch-Lightning/pytorch-venv/lib/python3.10/site-packages/pytorch_lightning/loggers/tensorboard.py:191: UserWarning: Could not log computational graph to TensorBoard: The `model.example_input_array` attribute is not set or `input_array` was not given.\n",
      "  rank_zero_warn(\n"
     ]
    },
    {
     "data": {
      "text/plain": "Sanity Checking: 0it [00:00, ?it/s]",
      "application/vnd.jupyter.widget-view+json": {
       "version_major": 2,
       "version_minor": 0,
       "model_id": "dbe4d53c7d8f4ecf9da0a185d5a4ef4f"
      }
     },
     "metadata": {},
     "output_type": "display_data"
    },
    {
     "data": {
      "text/plain": "Training: 0it [00:00, ?it/s]",
      "application/vnd.jupyter.widget-view+json": {
       "version_major": 2,
       "version_minor": 0,
       "model_id": "d942d17bf4b24463ba921302f8901aa9"
      }
     },
     "metadata": {},
     "output_type": "display_data"
    },
    {
     "data": {
      "text/plain": "Validation: 0it [00:00, ?it/s]",
      "application/vnd.jupyter.widget-view+json": {
       "version_major": 2,
       "version_minor": 0,
       "model_id": "894ded6ed10840ddb42f0ae0aea9736b"
      }
     },
     "metadata": {},
     "output_type": "display_data"
    }
   ],
   "source": [
    "train_model(**args, lr=3e-4,)"
   ],
   "metadata": {
    "collapsed": false,
    "is_executing": true,
    "ExecuteTime": {
     "start_time": "2023-07-16T23:09:07.633476Z"
    }
   }
  },
  {
   "cell_type": "code",
   "execution_count": null,
   "outputs": [],
   "source": [],
   "metadata": {
    "collapsed": false,
    "is_executing": true
   }
  }
 ],
 "metadata": {
  "kernelspec": {
   "display_name": "Python 3",
   "language": "python",
   "name": "python3"
  },
  "language_info": {
   "codemirror_mode": {
    "name": "ipython",
    "version": 2
   },
   "file_extension": ".py",
   "mimetype": "text/x-python",
   "name": "python",
   "nbconvert_exporter": "python",
   "pygments_lexer": "ipython2",
   "version": "2.7.6"
  }
 },
 "nbformat": 4,
 "nbformat_minor": 0
}
